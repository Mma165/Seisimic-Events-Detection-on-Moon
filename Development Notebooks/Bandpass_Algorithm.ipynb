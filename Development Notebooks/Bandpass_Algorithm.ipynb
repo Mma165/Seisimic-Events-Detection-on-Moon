{
 "cells": [
  {
   "cell_type": "markdown",
   "id": "1ca8ad26",
   "metadata": {},
   "source": [
    "# Detection of Seismic Events using Bandpass Filter.\n",
    "\n",
    "Bandpass filtering is used to clean the signal by removing noise, while matched filtering, using Signal-to-Noise Ratio (SNR) and template matching, detects events that resemble predefined seismic signatures. This improves the clarity and precision of event detection, particularly for faint signals."
   ]
  },
  {
   "cell_type": "markdown",
   "id": "9fb3e3be",
   "metadata": {},
   "source": [
    "## Install and import dependencies"
   ]
  },
  {
   "cell_type": "code",
   "execution_count": null,
   "id": "050cd15c-ef33-4786-a430-67a47a288185",
   "metadata": {},
   "outputs": [],
   "source": [
    "import numpy as np\n",
    "import pandas as pd\n",
    "import matplotlib.pyplot as plt\n",
    "from scipy.signal import butter, filtfilt, correlate\n",
    "import os"
   ]
  },
  {
   "cell_type": "markdown",
   "id": "cc8923c8",
   "metadata": {},
   "source": [
    "## Bandpass Implementation"
   ]
  },
  {
   "cell_type": "code",
   "execution_count": null,
   "id": "c2239d35-a416-4d7a-a908-abd1513f49f1",
   "metadata": {},
   "outputs": [],
   "source": [
    "# Filters out frequencies outside the desired range to remove noise and retain relevant signals.\n",
    "def bandpass_filter(data, lowcut, highcut, fs, order=4):\n",
    "    nyquist = 0.5 * fs  # Nyquist frequency\n",
    "    low = lowcut / nyquist\n",
    "    high = highcut / nyquist\n",
    "    b, a = butter(order, [low, high], btype='band')  # Create filter coefficients\n",
    "    filtered_data = filtfilt(b, a, data.fillna(0))  # Apply filter and handle missing values\n",
    "    return filtered_data"
   ]
  },
  {
   "cell_type": "code",
   "execution_count": null,
   "id": "81bd7c97-82d4-4ce9-84c1-550e107143e5",
   "metadata": {},
   "outputs": [],
   "source": [
    "# This template is used for cross-correlation with real data.\n",
    "def create_synthetic_template(sampling_rate=6.625, frequency=6.6, duration=20):\n",
    "    t = np.linspace(0, duration, int(sampling_rate * duration))  # Time vector\n",
    "    template = np.sin(2 * np.pi * frequency * t)  # Create sine wave\n",
    "    return template"
   ]
  },
  {
   "cell_type": "code",
   "execution_count": null,
   "id": "7a34f787-2925-44ed-8004-fa888ffdc206",
   "metadata": {},
   "outputs": [],
   "source": [
    "# Finds similarity between the seismic data and the template to detect events.\n",
    "def apply_matched_filter(data, template):\n",
    "    cross_corr = correlate(data, template, mode='same')  # Compute cross-correlation\n",
    "    threshold = 0.5 * np.max(cross_corr)  # Set threshold for event detection\n",
    "    return cross_corr, threshold"
   ]
  },
  {
   "cell_type": "code",
   "execution_count": null,
   "id": "11ecea74-7121-46b8-af7b-a8abea42a790",
   "metadata": {},
   "outputs": [],
   "source": [
    "# Groups nearby events and extends their window to capture full event length.\n",
    "def extend_event_detection(cross_correlation, threshold, extension=500, proximity=1000):\n",
    "    detected_event_indices = np.where(cross_correlation > threshold)[0]\n",
    "    extended_event_indices = []\n",
    "\n",
    "    if len(detected_event_indices) > 0:\n",
    "        start = detected_event_indices[0]\n",
    "        end = start\n",
    "\n",
    "        for i in range(1, len(detected_event_indices)):\n",
    "            if detected_event_indices[i] - end <= extension:\n",
    "                end = detected_event_indices[i]\n",
    "            else:\n",
    "                if extended_event_indices and start - extended_event_indices[-1][1] <= proximity:\n",
    "                    extended_event_indices[-1] = (extended_event_indices[-1][0], end)\n",
    "                else:\n",
    "                    extended_event_indices.append((start, end))\n",
    "                start = detected_event_indices[i]\n",
    "                end = start\n",
    "\n",
    "        # Save the final event\n",
    "        extended_event_indices.append((start, end))\n",
    "\n",
    "    return extended_event_indices"
   ]
  },
  {
   "cell_type": "code",
   "execution_count": null,
   "id": "ee43872c-3dcd-4b34-a86b-ad485ca0586f",
   "metadata": {},
   "outputs": [],
   "source": [
    "# Function to plot detected events and filter out empty plots.\n",
    "# If there are no detected events, no plot will be generated.\n",
    "def plot_events(data, time_column, signal_column, events, file_name):\n",
    "    if events:  # Only plot if there are detected events\n",
    "        for idx, (start, end) in enumerate(events):\n",
    "            plt.figure(figsize=(10, 4))\n",
    "            plt.plot(data[time_column][start:end], data[signal_column][start:end], label=\"Event Signal\")\n",
    "            plt.title(f\"Detected Event {idx+1} - {file_name}\")\n",
    "            plt.xlabel('Time (seconds)')\n",
    "            plt.ylabel('Signal')\n",
    "            plt.legend()\n",
    "            plt.show()"
   ]
  },
  {
   "cell_type": "code",
   "execution_count": null,
   "id": "01c29d0f-6723-4dc8-8d47-7645d82ee62c",
   "metadata": {},
   "outputs": [],
   "source": [
    "# Function to process the seismic data files.\n",
    "# Each file is filtered, cross-correlated, and events are detected and plotted.\n",
    "def model(test_dir, sampling_rate, lowcut=0.4, highcut=2.0):\n",
    "    template = create_synthetic_template(sampling_rate, 6.6, 20)  # Create synthetic template\n",
    "    \n",
    "    for file_name in os.listdir(test_dir):\n",
    "        if file_name.endswith(\".csv\"):  # Only process CSV files\n",
    "            file_path = os.path.join(test_dir, file_name)\n",
    "            data = pd.read_csv(file_path)  # Read data from file\n",
    "            filtered_data = bandpass_filter(data['velocity(m/s)'], lowcut, highcut, sampling_rate)  # Filter data\n",
    "            cross_corr, threshold = apply_matched_filter(filtered_data, template)  # Apply matched filter\n",
    "            \n",
    "            # Detect and extend event windows\n",
    "            extended_event_windows = extend_event_detection(cross_corr, threshold)\n",
    "            \n",
    "            if extended_event_windows:  # Only plot if events are detected\n",
    "                # Plot full signal with event regions highlighted\n",
    "                plt.figure(figsize=(15, 6))\n",
    "                plt.plot(data['time_rel(sec)'], cross_corr, label=\"Cross-correlation\")\n",
    "                for start, end in extended_event_windows:\n",
    "                    plt.axvspan(data['time_rel(sec)'].iloc[start], data['time_rel(sec)'].iloc[end], color='red', alpha=0.5)\n",
    "                \n",
    "                plt.title(f\"Matched Filter Detection - {file_name}\")\n",
    "                plt.xlabel('Time (seconds)')\n",
    "                plt.ylabel('Cross-correlation')\n",
    "                plt.legend()\n",
    "                plt.show()\n",
    "                \n",
    "                # Plot each cropped event\n",
    "                plot_events(data, 'time_rel(sec)', 'velocity(m/s)', extended_event_windows, file_name)\n",
    "            else:\n",
    "                print(f\"No events detected in {file_name}, skipping plot.\")"
   ]
  },
  {
   "cell_type": "markdown",
   "id": "8c3e7d9f-4e5c-4f7b-8aad-4d96d580542c",
   "metadata": {},
   "source": [
    "## Inference using Bandpass Filter"
   ]
  },
  {
   "cell_type": "code",
   "execution_count": null,
   "id": "00bf8ffd-e3fe-4215-99c8-fd36f925f97e",
   "metadata": {},
   "outputs": [],
   "source": [
    "if __name__ == \"__main__\": \n",
    "    test_dir = \"./space_apps_2024_seismic_detection/data/lunar/test/data/S12_GradeA\"  # Path to the directory with data files\n",
    "    sampling_rate = 6.625\n",
    "    print(\"Processing files in the test directory...\")\n",
    "    model(test_dir, sampling_rate)"
   ]
  }
 ],
 "metadata": {
  "kernelspec": {
   "display_name": "Python 3 (ipykernel)",
   "language": "python",
   "name": "python3"
  },
  "language_info": {
   "codemirror_mode": {
    "name": "ipython",
    "version": 3
   },
   "file_extension": ".py",
   "mimetype": "text/x-python",
   "name": "python",
   "nbconvert_exporter": "python",
   "pygments_lexer": "ipython3",
   "version": "3.12.4"
  }
 },
 "nbformat": 4,
 "nbformat_minor": 5
}
